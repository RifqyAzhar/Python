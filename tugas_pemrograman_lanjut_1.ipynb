{
  "nbformat": 4,
  "nbformat_minor": 0,
  "metadata": {
    "colab": {
      "provenance": [],
      "authorship_tag": "ABX9TyMgFb9kYpcSPahrU/vNQ/lk",
      "include_colab_link": true
    },
    "kernelspec": {
      "name": "python3",
      "display_name": "Python 3"
    },
    "language_info": {
      "name": "python"
    }
  },
  "cells": [
    {
      "cell_type": "markdown",
      "metadata": {
        "id": "view-in-github",
        "colab_type": "text"
      },
      "source": [
        "<a href=\"https://colab.research.google.com/github/RifqyAzhar/Python/blob/main/tugas_pemrograman_lanjut_1.ipynb\" target=\"_parent\"><img src=\"https://colab.research.google.com/assets/colab-badge.svg\" alt=\"Open In Colab\"/></a>"
      ]
    },
    {
      "cell_type": "code",
      "execution_count": null,
      "metadata": {
        "id": "cA6VORZ-nQLB",
        "colab": {
          "base_uri": "https://localhost:8080/"
        },
        "outputId": "1ee579af-3f8f-4a17-ad3e-f558ae9030d0"
      },
      "outputs": [
        {
          "output_type": "stream",
          "name": "stdout",
          "text": [
            "Selamat datang di Aplikasi perhitungan nilai Mahasiswa\n",
            "Silahkan Masukan nilai Tugas Anda : 86\n",
            "Silahkan Masukan nilai UTS Anda   : 86\n",
            "Silahkan Masukan nilai UAS Anda   : 86\n",
            "Nilai Akhir Anda :  86.0\n",
            "Dalam Huruf      : A\n"
          ]
        }
      ],
      "source": [
        "\"\"\"\n",
        "NAMA : Muhammad Rifqy Azhar Widiyatmoko\n",
        "NIM  : 41823010123\n",
        "\"\"\"\n",
        "\n",
        "print(\"Selamat datang di Aplikasi perhitungan nilai Mahasiswa\")\n",
        "tugas=float(input(\"Silahkan Masukan nilai Tugas Anda : \"))\n",
        "uts=float(input(\"Silahkan Masukan nilai UTS Anda   : \"))\n",
        "uas=float(input(\"Silahkan Masukan nilai UAS Anda   : \"))\n",
        "\n",
        "NA=(tugas*0.25) + (uts*0.35) + (uas*0.4)\n",
        "print(\"Nilai Akhir Anda : \", NA)\n",
        "\n",
        "if NA > 85:\n",
        "  print(\"Dalam Huruf      : A\")\n",
        "elif NA > 80:\n",
        "  print(\"Dalam Huruf      : A-\")\n",
        "elif NA > 75:\n",
        "  print(\"Dalam Huruf      : B+\")\n",
        "elif NA > 70:\n",
        "  print(\"Dalam Huruf      : B\")\n",
        "elif NA > 65:\n",
        "  print(\"Dalam Huruf      : B-\")\n",
        "elif NA > 60:\n",
        "  print(\"Dalam Huruf      : C+\")\n",
        "elif NA > 55:\n",
        "  print(\"Dalam Huruf      : C\")\n",
        "elif NA > 50:\n",
        "  print(\"Dalam Huruf      : C-\")\n",
        "elif NA > 30:\n",
        "  print(\"Dalam Huruf      : D\")\n",
        "elif NA == 30:\n",
        "  print(\"Dalam Huruf      : E\")"
      ]
    }
  ]
}